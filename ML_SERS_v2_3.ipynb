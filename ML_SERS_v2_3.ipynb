{
  "cells": [
    {
      "cell_type": "markdown",
      "metadata": {
        "id": "view-in-github",
        "colab_type": "text"
      },
      "source": [
        "<a href=\"https://colab.research.google.com/github/delte1821/ML-SERS/blob/master/ML_SERS_v2_3.ipynb\" target=\"_parent\"><img src=\"https://colab.research.google.com/assets/colab-badge.svg\" alt=\"Open In Colab\"/></a>"
      ]
    },
    {
      "cell_type": "code",
      "source": [
        "!pip install xgboost"
      ],
      "metadata": {
        "colab": {
          "base_uri": "https://localhost:8080/"
        },
        "id": "ojwvKbrJh1W6",
        "outputId": "c102e178-4c06-443c-d548-f274fbc2b0c7"
      },
      "id": "ojwvKbrJh1W6",
      "execution_count": 1,
      "outputs": [
        {
          "output_type": "stream",
          "name": "stdout",
          "text": [
            "Requirement already satisfied: xgboost in /usr/local/lib/python3.10/dist-packages (2.0.3)\n",
            "Requirement already satisfied: numpy in /usr/local/lib/python3.10/dist-packages (from xgboost) (1.25.2)\n",
            "Requirement already satisfied: scipy in /usr/local/lib/python3.10/dist-packages (from xgboost) (1.11.4)\n"
          ]
        }
      ]
    },
    {
      "cell_type": "code",
      "execution_count": 46,
      "id": "0d6cf943-3bba-4432-9d67-c788b4b80994",
      "metadata": {
        "id": "0d6cf943-3bba-4432-9d67-c788b4b80994",
        "collapsed": true
      },
      "outputs": [],
      "source": [
        "import pandas as pd\n",
        "import os\n",
        "import numpy as np\n",
        "\n",
        "import matplotlib.pyplot as plt\n",
        "from matplotlib import rcParams\n",
        "import tensorflow as tf\n",
        "from scipy import stats\n",
        "import xgboost as xgb\n",
        "\n",
        "from tensorflow.keras.models import Sequential\n",
        "from tensorflow.keras.layers import Conv1D, MaxPooling1D, Flatten, Dense, BatchNormalization, Dropout, Activation\n",
        "from tensorflow.keras.regularizers import l2\n",
        "from tensorflow.keras.callbacks import EarlyStopping\n",
        "from sklearn.linear_model import Ridge, Lasso, ElasticNet\n",
        "from sklearn.preprocessing import StandardScaler, LabelEncoder, PolynomialFeatures, label_binarize\n",
        "from sklearn.metrics import mean_squared_error, r2_score, classification_report, confusion_matrix, ConfusionMatrixDisplay, roc_auc_score, roc_curve\n",
        "from sklearn.decomposition import PCA\n",
        "from sklearn.utils.class_weight import compute_class_weight\n",
        "from sklearn.model_selection import RandomizedSearchCV, train_test_split\n",
        "from sklearn.linear_model import LogisticRegression\n",
        "from sklearn.ensemble import RandomForestClassifier, GradientBoostingClassifier\n",
        "from sklearn.svm import SVC\n",
        "\n",
        "rcParams['font.family'] = 'sans-serif'\n",
        "rcParams['font.sans-serif'] = ['DejaVu Sans']"
      ]
    },
    {
      "cell_type": "code",
      "execution_count": 3,
      "id": "okY68X0pu6Uo",
      "metadata": {
        "colab": {
          "base_uri": "https://localhost:8080/"
        },
        "id": "okY68X0pu6Uo",
        "outputId": "ec496176-e90a-4de3-dddf-38d7f8037863"
      },
      "outputs": [
        {
          "output_type": "stream",
          "name": "stdout",
          "text": [
            "Mounted at /content/drive\n"
          ]
        }
      ],
      "source": [
        "from google.colab import drive\n",
        "drive.mount('/content/drive')"
      ]
    },
    {
      "cell_type": "code",
      "execution_count": 4,
      "id": "e35ffc8b-4b70-4a65-8c18-f7efd644646e",
      "metadata": {
        "id": "e35ffc8b-4b70-4a65-8c18-f7efd644646e"
      },
      "outputs": [],
      "source": [
        "def initialize_paths(file_path):\n",
        "    figure_path = os.path.join(file_path, \"Figures\")\n",
        "    if not os.path.exists(figure_path):\n",
        "        os.makedirs(figure_path)\n",
        "    return figure_path"
      ]
    },
    {
      "cell_type": "code",
      "execution_count": 5,
      "id": "5KQoUPoH08gV",
      "metadata": {
        "id": "5KQoUPoH08gV"
      },
      "outputs": [],
      "source": [
        "def load_data(file_path):\n",
        "    df = pd.read_excel(file_path, header=None)\n",
        "    materials = df.iloc[0, :].astype(int)  # Ensure materials are integers\n",
        "    concentrations = df.iloc[1, :].astype(float)\n",
        "    data = df.iloc[2:, :].values\n",
        "    return data, materials, concentrations"
      ]
    },
    {
      "cell_type": "code",
      "execution_count": 6,
      "id": "KwU9WMR507KM",
      "metadata": {
        "id": "KwU9WMR507KM"
      },
      "outputs": [],
      "source": [
        "def filter_by_material(data, materials, concentrations, material_type):\n",
        "    indices = materials == material_type\n",
        "    filtered_data = data[:, indices]\n",
        "    filtered_concentrations = concentrations[indices]\n",
        "\n",
        "    return filtered_data, filtered_concentrations"
      ]
    },
    {
      "cell_type": "code",
      "execution_count": 7,
      "id": "QYONXuD905XA",
      "metadata": {
        "id": "QYONXuD905XA"
      },
      "outputs": [],
      "source": [
        "def preprocess_data(data):\n",
        "    nsamples, nx, ny = data.shape\n",
        "    data_2d = data.reshape((nsamples, nx * ny))\n",
        "    scaler = StandardScaler()\n",
        "    data_scaled = scaler.fit_transform(data_2d)\n",
        "    data_reshaped = data_scaled.reshape(nsamples, nx, ny)\n",
        "    return data_reshaped"
      ]
    },
    {
      "cell_type": "code",
      "execution_count": 8,
      "id": "CArN_Z9X03pc",
      "metadata": {
        "id": "CArN_Z9X03pc"
      },
      "outputs": [],
      "source": [
        "def augment_data(data, labels, num_augmented_samples=20):\n",
        "    augmented_data = []\n",
        "    augmented_labels = []\n",
        "    original_len = len(data)\n",
        "    for sample, label in zip(data, labels):\n",
        "        augmented_data.append(sample)\n",
        "        augmented_labels.append(label)\n",
        "        for _ in range(num_augmented_samples):\n",
        "            noise = np.random.normal(0, 0.1, sample.shape)\n",
        "            augmented_sample = sample + noise\n",
        "\n",
        "            # Additional augmentations\n",
        "            scale_factor = np.random.uniform(0.9, 1.1)\n",
        "            augmented_sample = augmented_sample * scale_factor\n",
        "\n",
        "            shift_value = np.random.uniform(-0.1, 0.1, sample.shape)\n",
        "            augmented_sample = augmented_sample + shift_value\n",
        "\n",
        "            augmented_data.append(augmented_sample)\n",
        "            augmented_labels.append(label)\n",
        "    augmented_data = np.array(augmented_data)\n",
        "    augmented_labels = np.array(augmented_labels)\n",
        "    print(f\"Original data size: {original_len}, Augmented data size: {len(augmented_data)}\")\n",
        "    return augmented_data, augmented_labels\n"
      ]
    },
    {
      "cell_type": "code",
      "execution_count": 9,
      "id": "ZKDzrLCP02He",
      "metadata": {
        "id": "ZKDzrLCP02He"
      },
      "outputs": [],
      "source": [
        "def build_cnn_model(input_shape):\n",
        "    model = Sequential([\n",
        "        Conv1D(16, kernel_size=3, activation='relu', input_shape=input_shape, kernel_regularizer=l2(0.01)),\n",
        "        BatchNormalization(),\n",
        "        MaxPooling1D(2),\n",
        "        Conv1D(32, kernel_size=3, activation='relu', kernel_regularizer=l2(0.01)),\n",
        "        BatchNormalization(),\n",
        "        MaxPooling1D(2),\n",
        "        Flatten(),\n",
        "        Dense(50, activation='relu', kernel_regularizer=l2(0.01)),\n",
        "        Dropout(0.5),\n",
        "        Dense(1, kernel_regularizer=l2(0.01))  # Output layer for concentration prediction\n",
        "    ])\n",
        "    model.compile(optimizer='adam', loss='mean_squared_error')\n",
        "    return model\n"
      ]
    },
    {
      "cell_type": "code",
      "source": [
        "def build_nn_model(input_shape):\n",
        "    model = Sequential([\n",
        "        Dense(64, activation='relu', input_shape=input_shape),\n",
        "        Dense(32, activation='relu'),\n",
        "        Dense(1)  # Output layer for regression\n",
        "    ])\n",
        "    model.compile(optimizer='adam', loss='mean_squared_error')\n",
        "    return model"
      ],
      "metadata": {
        "id": "8Pa_aqntiLrO"
      },
      "id": "8Pa_aqntiLrO",
      "execution_count": 10,
      "outputs": []
    },
    {
      "cell_type": "code",
      "source": [
        "def train_nn_regression(X_train, y_train, X_val, y_val, epochs=100, batch_size=32, use_early_stopping=True):\n",
        "    model = build_nn_model((X_train.shape[1],))\n",
        "\n",
        "    # Early stopping callback\n",
        "    callbacks = [EarlyStopping(monitor='val_loss', patience=10, restore_best_weights=True)] if use_early_stopping else []\n",
        "\n",
        "    history = model.fit(X_train, y_train, epochs=epochs, batch_size=batch_size, validation_data=(X_val, y_val), callbacks=callbacks)\n",
        "    y_pred = model.predict(X_val)\n",
        "    mse = mean_squared_error(y_val, y_pred)\n",
        "    r2 = r2_score(y_val, y_pred)\n",
        "    return model, mse, r2, history"
      ],
      "metadata": {
        "id": "gCuX3fWmiJR4"
      },
      "id": "gCuX3fWmiJR4",
      "execution_count": 22,
      "outputs": []
    },
    {
      "cell_type": "code",
      "execution_count": 21,
      "id": "mV269rJ30yTO",
      "metadata": {
        "id": "mV269rJ30yTO"
      },
      "outputs": [],
      "source": [
        "def train_and_validate(data, materials, concentrations, material_types, display=True, figure_path=None, epochs=200, batch_size=128, num_augmented_samples=200, use_early_stopping=True, patience=20):\n",
        "    results = {}\n",
        "    fig_counter = 1\n",
        "\n",
        "    for mat_type in material_types:\n",
        "        X, y = filter_by_material(data, materials, concentrations, mat_type)\n",
        "\n",
        "        # Split the data into training and validation sets\n",
        "        X_train, X_val, y_train, y_val = train_test_split(X.T, y, test_size=0.2, random_state=42)\n",
        "\n",
        "        # Data augmentation for training data only\n",
        "        X_train_augmented, y_train_augmented = augment_data(X_train, y_train, num_augmented_samples)\n",
        "\n",
        "        # Ensure X and y have consistent length\n",
        "        assert X_train_augmented.shape[0] == len(y_train_augmented), \"Inconsistent number of samples between data and labels\"\n",
        "\n",
        "        # Preprocess the training and validation data\n",
        "        X_train_augmented = preprocess_data(X_train_augmented.reshape(X_train_augmented.shape[0], X_train_augmented.shape[1], 1))\n",
        "        X_val = preprocess_data(X_val.reshape(X_val.shape[0], X_val.shape[1], 1))\n",
        "\n",
        "        # Reshape back to 2D for regression models\n",
        "        X_train_2d = X_train_augmented.reshape(X_train_augmented.shape[0], -1)\n",
        "        X_val_2d = X_val.reshape(X_val.shape[0], -1)\n",
        "\n",
        "        # Define and train multiple regression models\n",
        "        models = {\n",
        "            'Ridge': Ridge(alpha=1.0),\n",
        "            'Lasso': Lasso(alpha=1.0),\n",
        "            'ElasticNet': ElasticNet(alpha=1.0, l1_ratio=0.5),\n",
        "            'XGBoost': xgb.XGBRegressor(objective='reg:squarederror'),\n",
        "            'NeuralNetwork': None  # Will be created separately\n",
        "        }\n",
        "\n",
        "        best_model = None\n",
        "        best_r2 = -np.inf\n",
        "        best_name = \"\"\n",
        "\n",
        "        for name, model in models.items():\n",
        "            if name == 'NeuralNetwork':\n",
        "                model, mse, r2, history = train_nn_regression(X_train_2d, y_train_augmented, X_val_2d, y_val, epochs=epochs, batch_size=batch_size, use_early_stopping=use_early_stopping)\n",
        "            else:\n",
        "                model.fit(X_train_2d, y_train_augmented)\n",
        "                y_pred = model.predict(X_val_2d)\n",
        "                mse = mean_squared_error(y_val, y_pred)\n",
        "                r2 = r2_score(y_val, y_pred)\n",
        "\n",
        "            print(f\"{name} Regression MSE: {mse}, R2: {r2}\")\n",
        "\n",
        "            if r2 > best_r2:\n",
        "                best_r2 = r2\n",
        "                best_model = model\n",
        "                best_name = name\n",
        "\n",
        "        print(f\"Best model: {best_name} with R2: {best_r2}\")\n",
        "        results[mat_type] = (best_model, best_r2)\n",
        "\n",
        "        # Save the best model's predictions and plots\n",
        "        if display:\n",
        "            y_pred = best_model.predict(X_val_2d) if best_name != 'NeuralNetwork' else best_model.predict(X_val_2d).flatten()\n",
        "            plot_predictions(y_val, y_pred, mat_type, fig_counter, figure_path)\n",
        "            if best_name == 'NeuralNetwork':\n",
        "                plot_training_history(history, mat_type, fig_counter, figure_path)\n",
        "\n",
        "        fig_counter += 1\n",
        "    return results"
      ]
    },
    {
      "cell_type": "code",
      "execution_count": 13,
      "id": "IJyGWk4b0thz",
      "metadata": {
        "id": "IJyGWk4b0thz"
      },
      "outputs": [],
      "source": [
        "def plot_predictions(y_true, y_pred, material_type, fig_counter, figure_path):\n",
        "    material_name = \"IL6\" if material_type == 1 else \"TNF\" if material_type == 2 else \"Control\"\n",
        "    fig_filename = os.path.join(figure_path, f'{material_name}_LR_{fig_counter}.png')\n",
        "    # Check if file exists and increment counter if necessary\n",
        "    while os.path.exists(fig_filename):\n",
        "        fig_counter += 1\n",
        "        fig_filename = os.path.join(figure_path, f'{material_name}_LR_{fig_counter}.png')\n",
        "\n",
        "    plt.figure(figsize=(8, 6))\n",
        "    plt.scatter(y_true, y_pred, c='blue')\n",
        "    plt.plot([y_true.min(), y_true.max()], [y_true.min(), y_true.max()], 'k--')\n",
        "    plt.xlabel('Actual Concentrations')\n",
        "    plt.ylabel('Predicted Concentrations')\n",
        "    plt.title(f'Actual vs Predicted Concentrations for {material_name}')\n",
        "    r2 = r2_score(y_true, y_pred)\n",
        "    plt.text(0.05, 0.95, f'R² = {r2:.4f}', transform=plt.gca().transAxes, fontsize=18, verticalalignment='top')\n",
        "    plt.tight_layout()\n",
        "    plt.savefig(fig_filename)\n",
        "    plt.show()"
      ]
    },
    {
      "cell_type": "code",
      "execution_count": 14,
      "id": "O8B-X_oK0p0L",
      "metadata": {
        "id": "O8B-X_oK0p0L"
      },
      "outputs": [],
      "source": [
        "def plot_training_history(history, material_type, fig_counter, figure_path):\n",
        "    material_name = \"IL6\" if material_type == 1 else \"TNF\" if material_type == 2 else \"Control\"\n",
        "    fig_filename = os.path.join(figure_path, f'{material_name}_TH_{fig_counter}.png')\n",
        "    # Check if file exists and increment counter if necessary\n",
        "    while os.path.exists(fig_filename):\n",
        "        fig_counter += 1\n",
        "        fig_filename = os.path.join(figure_path, f'{material_name}_TH_{fig_counter}.png')\n",
        "\n",
        "    plt.figure(figsize=(8, 6))\n",
        "    plt.plot(history.history['loss'], label='Training Loss')\n",
        "    plt.plot(history.history['val_loss'], label='Validation Loss')\n",
        "    plt.title(f'Epoch vs Loss for {material_name}')\n",
        "    plt.xlabel('Epoch')\n",
        "    plt.ylabel('Loss')\n",
        "    plt.legend()\n",
        "    plt.grid(True)\n",
        "    plt.tight_layout()\n",
        "    plt.savefig(fig_filename)\n",
        "    plt.show()"
      ]
    },
    {
      "cell_type": "code",
      "execution_count": 63,
      "id": "7sN7pxXF0gTJ",
      "metadata": {
        "id": "7sN7pxXF0gTJ"
      },
      "outputs": [],
      "source": [
        "def classify_materials(data, materials, display=True, figure_path=None, validation_size=0.2, n_components=10, num_augmented_samples=20):\n",
        "    # Split the data into training and validation sets\n",
        "    X_train, X_val, y_train, y_val = train_test_split(data.T, materials, test_size=validation_size, random_state=42)\n",
        "\n",
        "    # Data augmentation for training data only\n",
        "    X_train_augmented, y_train_augmented = augment_data(X_train, y_train, num_augmented_samples)\n",
        "    X_train_augmented = X_train_augmented.T  # Transpose back to original shape\n",
        "\n",
        "    # Ensure X and y have consistent length\n",
        "    assert X_train_augmented.shape[1] == len(y_train_augmented), \"Inconsistent number of samples between data and labels\"\n",
        "\n",
        "    print(f\"Original data size: {len(y_train)}, Augmented data size: {len(y_train_augmented)}\")\n",
        "\n",
        "    # Combine augmented training data with validation data for consistent scaling\n",
        "    combined_data = np.concatenate((X_train_augmented, X_val.T), axis=1)\n",
        "    combined_labels = np.concatenate((y_train_augmented, y_val), axis=0)\n",
        "\n",
        "    # Scale the combined data\n",
        "    scaler = StandardScaler()\n",
        "    combined_data_scaled = scaler.fit_transform(combined_data.T).T  # Scale and then transpose back to original shape\n",
        "\n",
        "    # Apply PCA for feature extraction\n",
        "    pca = PCA(n_components=n_components)\n",
        "    combined_data_pca = pca.fit_transform(combined_data_scaled.T).T  # Apply PCA and then transpose back to original shape\n",
        "\n",
        "    # Split back into training and validation sets\n",
        "    X_train_pca = combined_data_pca[:, :X_train_augmented.shape[1]]\n",
        "    X_val_pca = combined_data_pca[:, X_train_augmented.shape[1]:]\n",
        "\n",
        "    # Encode labels\n",
        "    le = LabelEncoder()\n",
        "    y_train_encoded = le.fit_transform(y_train_augmented)\n",
        "    y_val_encoded = le.transform(y_val)\n",
        "\n",
        "    # Compute class weights\n",
        "    class_weights = compute_class_weight('balanced', classes=np.unique(y_train_encoded), y=y_train_encoded)\n",
        "    class_weights_dict = dict(enumerate(class_weights))\n",
        "\n",
        "    # Define multiple models\n",
        "    models = {\n",
        "        'Logistic Regression': LogisticRegression(solver='liblinear', class_weight='balanced', random_state=42),\n",
        "        'Random Forest': RandomForestClassifier(random_state=42, class_weight='balanced'),\n",
        "        'SVM': SVC(kernel='linear', probability=True, class_weight='balanced', random_state=42),\n",
        "        'Gradient Boosting': GradientBoostingClassifier(random_state=42)\n",
        "    }\n",
        "\n",
        "    best_auroc = -np.inf\n",
        "    best_model_name = None\n",
        "    best_y_pred_prob = None\n",
        "    best_y_pred = None\n",
        "    best_cm = None\n",
        "\n",
        "    plt.figure(figsize=(12, 8))\n",
        "\n",
        "    label_binarized = label_binarize(y_val_encoded, classes=np.unique(y_val_encoded))\n",
        "\n",
        "    for model_name, model in models.items():\n",
        "        auroc, y_pred_prob, y_pred, cm = evaluate_classification_model(model, X_train_pca.T, y_train_encoded, X_val_pca.T, y_val_encoded)\n",
        "        print(f\"{model_name} - AUROC: {auroc:.4f}\")\n",
        "        plot_roc_curves(y_val_encoded, y_pred_prob, model_name, label_binarized)\n",
        "\n",
        "        if auroc > best_auroc:\n",
        "            best_auroc = auroc\n",
        "            best_model_name = model_name\n",
        "            best_y_pred_prob = y_pred_prob\n",
        "            best_y_pred = y_pred\n",
        "            best_cm = cm\n",
        "\n",
        "    plt.plot([0, 1], [0, 1], 'k--')\n",
        "    plt.xlim([-0.05, 1.0])\n",
        "    plt.ylim([-0.05, 1.05])\n",
        "    plt.xlabel('False Positive Rate')\n",
        "    plt.ylabel('True Positive Rate')\n",
        "    plt.title('Receiver Operating Characteristic (ROC) Curve')\n",
        "    plt.legend(loc='lower right')\n",
        "    plt.grid(True)\n",
        "    if figure_path:\n",
        "        plt.tight_layout()\n",
        "        plt.savefig(os.path.join(figure_path, 'ROC_Curve_Comparison.png'))\n",
        "    plt.show()\n",
        "\n",
        "    print(f\"Best model: {best_model_name} with AUROC: {best_auroc:.4f}\")\n",
        "\n",
        "    # Plot confusion matrix for the best model\n",
        "    if display and figure_path:\n",
        "        target_names = [str(label) for label in le.classes_]\n",
        "        plot_confusion_matrix(best_cm, target_names, figure_path)\n",
        "\n",
        "    # Print classification report for the best model\n",
        "    print(\"Classification Report for the Best Model:\")\n",
        "    print(classification_report(y_val_encoded, best_y_pred, target_names=target_names))\n",
        "\n",
        "    # Calculate and print specificity and sensitivity\n",
        "    specificity, sensitivity = calculate_specificity_sensitivity(best_cm)\n",
        "\n",
        "    # Save and print the sensitivity and specificity\n",
        "    results_file_path = os.path.join(figure_path, 'Sensitivity_Specificity_Best_Model.txt')\n",
        "    with open(results_file_path, 'w') as f:\n",
        "        for i, material in enumerate(target_names):\n",
        "            f.write(f\"Material: {material}\\n\")\n",
        "            f.write(f\"Specificity: {specificity[i]:.2f}\\n\")\n",
        "            f.write(f\"Sensitivity: {sensitivity[i]:.2f}\\n\")\n",
        "            f.write(\"\\n\")\n",
        "\n",
        "    # Also print the sensitivity and specificity to the console\n",
        "    for i, material in enumerate(target_names):\n",
        "        print(f\"Material: {material}\")\n",
        "        print(f\"Specificity: {specificity[i]:.2f}\")\n",
        "        print(f\"Sensitivity: {sensitivity[i]:.2f}\")\n",
        "        print()\n"
      ]
    },
    {
      "cell_type": "code",
      "source": [
        "def plot_peak_intensity(data, materials, concentrations, material_type, peak_range, figure_path=None, display=True):\n",
        "    \"\"\"\n",
        "    Plots the peak intensity for a given material type.\n",
        "\n",
        "    Args:\n",
        "    - data: 2D array of spectral data.\n",
        "    - materials: 1D array of material types.\n",
        "    - concentrations: 1D array of concentrations.\n",
        "    - material_type: Integer representing the material type to plot.\n",
        "    - peak_range: Tuple (start, end) representing the range of indices for the peak.\n",
        "    - figure_path: Path to save the plot (optional).\n",
        "    - display: Boolean indicating whether to display the plot.\n",
        "    \"\"\"\n",
        "    indices = materials == material_type\n",
        "    peak_data = data[peak_range[0]:peak_range[1], indices]\n",
        "    avg_peak_data = np.mean(peak_data, axis=0)\n",
        "\n",
        "    plt.figure(figsize=(10, 6))\n",
        "    plt.plot(concentrations[indices], avg_peak_data, 'o-', label=f'Material {material_type}')\n",
        "    plt.xlabel('Concentration')\n",
        "    plt.ylabel('Average Peak Intensity')\n",
        "    plt.title(f'Average Peak Intensity vs Concentration for Material {material_type}')\n",
        "    plt.legend()\n",
        "    plt.grid(True)\n",
        "\n",
        "    if figure_path:\n",
        "        fig_filename = os.path.join(figure_path, f'Peak_Intensity_Material_{material_type}.png')\n",
        "        plt.savefig(fig_filename)\n",
        "        print(f'Peak intensity plot saved to {fig_filename}')\n",
        "\n",
        "    if display:\n",
        "        plt.show()\n",
        "    else:\n",
        "        plt.close()\n"
      ],
      "metadata": {
        "id": "JA3Hgl0PzveP"
      },
      "id": "JA3Hgl0PzveP",
      "execution_count": 18,
      "outputs": []
    },
    {
      "cell_type": "code",
      "source": [
        "def calculate_multiclass_metrics(cm):\n",
        "    sensitivity = []\n",
        "    specificity = []\n",
        "    for i in range(len(cm)):\n",
        "        tp = cm[i, i]\n",
        "        fn = cm[i, :].sum() - tp\n",
        "        fp = cm[:, i].sum() - tp\n",
        "        tn = cm.sum() - (tp + fn + fp)\n",
        "        sensitivity.append(tp / (tp + fn) if (tp + fn) > 0 else 0)\n",
        "        specificity.append(tn / (tn + fp) if (tn + fp) > 0 else 0)\n",
        "    return sensitivity, specificity\n"
      ],
      "metadata": {
        "id": "b8oxT8_292ud"
      },
      "id": "b8oxT8_292ud",
      "execution_count": 34,
      "outputs": []
    },
    {
      "cell_type": "code",
      "source": [
        "def evaluate_classification_model(model, X_train, y_train, X_val, y_val):\n",
        "    # Train the model\n",
        "    model.fit(X_train, y_train)\n",
        "\n",
        "    # Predict probabilities\n",
        "    y_pred_prob = model.predict_proba(X_val)\n",
        "\n",
        "    # Calculate AUROC\n",
        "    auroc = roc_auc_score(y_val, y_pred_prob, multi_class='ovr')\n",
        "\n",
        "    # Predict classes\n",
        "    y_pred = model.predict(X_val)\n",
        "\n",
        "    # Calculate confusion matrix\n",
        "    cm = confusion_matrix(y_val, y_pred)\n",
        "\n",
        "    return auroc, y_pred_prob, y_pred, cm\n"
      ],
      "metadata": {
        "id": "YOu8gMmT95CH"
      },
      "id": "YOu8gMmT95CH",
      "execution_count": 55,
      "outputs": []
    },
    {
      "cell_type": "code",
      "source": [
        "def plot_roc_curves(y_val, y_pred_prob, model_name, label_binarized):\n",
        "    n_classes = y_pred_prob.shape[1]\n",
        "    fpr = dict()\n",
        "    tpr = dict()\n",
        "    roc_auc = dict()\n",
        "    for i in range(n_classes):\n",
        "        fpr[i], tpr[i], _ = roc_curve(y_val, y_pred_prob[:, i], pos_label=i)\n",
        "        roc_auc[i] = auc(fpr[i], tpr[i])\n",
        "    fpr[\"micro\"], tpr[\"micro\"], _ = roc_curve(label_binarized.ravel(), y_pred_prob.ravel())\n",
        "    roc_auc[\"micro\"] = auc(fpr[\"micro\"], tpr[\"micro\"])\n",
        "    plt.plot(fpr[\"micro\"], tpr[\"micro\"], label=f'{model_name} micro-average ROC curve (area = {roc_auc[\"micro\"]:.4f})')\n"
      ],
      "metadata": {
        "id": "U3TG_heLCPHb"
      },
      "id": "U3TG_heLCPHb",
      "execution_count": 61,
      "outputs": []
    },
    {
      "cell_type": "code",
      "source": [
        "import seaborn as sns\n",
        "\n",
        "def plot_confusion_matrix(cm, target_names, figure_path):\n",
        "    fig_counter = 1\n",
        "    plt.figure(figsize=(8, 6))\n",
        "    sns.heatmap(cm, annot=True, fmt='d', cmap='Blues', cbar=True, xticklabels=target_names, yticklabels=target_names)\n",
        "    plt.title('Confusion Matrix')\n",
        "    plt.xlabel('Predicted Label')\n",
        "    plt.ylabel('True Label')\n",
        "    fig_filename = os.path.join(figure_path, f'CM_{fig_counter}.png')\n",
        "    while os.path.exists(fig_filename):\n",
        "        fig_counter += 1\n",
        "        fig_filename = os.path.join(figure_path, f'CM_{fig_counter}.png')\n",
        "    plt.tight_layout()\n",
        "    plt.savefig(fig_filename)\n",
        "    plt.show()"
      ],
      "metadata": {
        "id": "9dAclidYDHnF"
      },
      "id": "9dAclidYDHnF",
      "execution_count": 69,
      "outputs": []
    },
    {
      "cell_type": "code",
      "execution_count": 66,
      "id": "bbe32483-4f2b-4319-817b-b0f05c5870a8",
      "metadata": {
        "id": "bbe32483-4f2b-4319-817b-b0f05c5870a8",
        "colab": {
          "base_uri": "https://localhost:8080/"
        },
        "outputId": "a363311b-0ae1-4086-baed-347df28b1aa0"
      },
      "outputs": [
        {
          "output_type": "stream",
          "name": "stdout",
          "text": [
            "Data shape after loading: (1024, 232)\n",
            "Materials shape after loading: (232,)\n"
          ]
        }
      ],
      "source": [
        "# ============================================================================================================= #\n",
        "# Paths and instantiation\n",
        "file_path = \"/content/drive/My Drive/Colab Notebooks/Spectra/Low\"  # Update to your actual path in Google Drive\n",
        "figure_path = initialize_paths(file_path)\n",
        "original_file_path = os.path.join(file_path, \"Combine.xlsx\")\n",
        "display = True\n",
        "epochs = 200\n",
        "batch_size = 128\n",
        "num_augmented_samples=200\n",
        "use_early_stopping = True\n",
        "patience = 20\n",
        "\n",
        "# Load and preprocess data\n",
        "data, materials, concentrations = load_data(original_file_path)\n",
        "material_types = [1, 2]  # Focusing on IL6 and TNF for example\n",
        "\n",
        "# Set parameters\n",
        "validation_size = 0.2  # Adjust validation size if necessary\n",
        "n_components = 10  # Number of principal components to use\n",
        "\n",
        "# Check data dimensions after loading\n",
        "print(f\"Data shape after loading: {data.shape}\")\n",
        "print(f\"Materials shape after loading: {materials.shape}\")"
      ]
    },
    {
      "cell_type": "code",
      "execution_count": 71,
      "id": "c2e75763-2fca-4bb5-930b-9cd2774a927e",
      "metadata": {
        "colab": {
          "base_uri": "https://localhost:8080/",
          "height": 356
        },
        "collapsed": true,
        "id": "c2e75763-2fca-4bb5-930b-9cd2774a927e",
        "outputId": "5be85308-9f74-4f64-c73f-911b998e4d8d"
      },
      "outputs": [
        {
          "output_type": "stream",
          "name": "stdout",
          "text": [
            "Original data size: 99, Augmented data size: 19899\n"
          ]
        },
        {
          "output_type": "error",
          "ename": "KeyboardInterrupt",
          "evalue": "",
          "traceback": [
            "\u001b[0;31m---------------------------------------------------------------------------\u001b[0m",
            "\u001b[0;31mKeyboardInterrupt\u001b[0m                         Traceback (most recent call last)",
            "\u001b[0;32m<ipython-input-71-4bb8f88a295f>\u001b[0m in \u001b[0;36m<cell line: 2>\u001b[0;34m()\u001b[0m\n\u001b[1;32m      1\u001b[0m \u001b[0;31m# Run the train_and_validate function\u001b[0m\u001b[0;34m\u001b[0m\u001b[0;34m\u001b[0m\u001b[0m\n\u001b[0;32m----> 2\u001b[0;31m \u001b[0mresults_regression\u001b[0m \u001b[0;34m=\u001b[0m \u001b[0mtrain_and_validate\u001b[0m\u001b[0;34m(\u001b[0m\u001b[0mdata\u001b[0m\u001b[0;34m,\u001b[0m \u001b[0mmaterials\u001b[0m\u001b[0;34m,\u001b[0m \u001b[0mconcentrations\u001b[0m\u001b[0;34m,\u001b[0m \u001b[0mmaterial_types\u001b[0m\u001b[0;34m,\u001b[0m \u001b[0mdisplay\u001b[0m\u001b[0;34m=\u001b[0m\u001b[0mdisplay\u001b[0m\u001b[0;34m,\u001b[0m \u001b[0mfigure_path\u001b[0m\u001b[0;34m=\u001b[0m\u001b[0mfigure_path\u001b[0m\u001b[0;34m,\u001b[0m \u001b[0mepochs\u001b[0m\u001b[0;34m=\u001b[0m\u001b[0mepochs\u001b[0m\u001b[0;34m,\u001b[0m \u001b[0mbatch_size\u001b[0m\u001b[0;34m=\u001b[0m\u001b[0mbatch_size\u001b[0m\u001b[0;34m,\u001b[0m \u001b[0mnum_augmented_samples\u001b[0m\u001b[0;34m=\u001b[0m\u001b[0mnum_augmented_samples\u001b[0m\u001b[0;34m,\u001b[0m \u001b[0muse_early_stopping\u001b[0m\u001b[0;34m=\u001b[0m\u001b[0muse_early_stopping\u001b[0m\u001b[0;34m,\u001b[0m \u001b[0mpatience\u001b[0m\u001b[0;34m=\u001b[0m\u001b[0mpatience\u001b[0m\u001b[0;34m)\u001b[0m\u001b[0;34m\u001b[0m\u001b[0;34m\u001b[0m\u001b[0m\n\u001b[0m",
            "\u001b[0;32m<ipython-input-21-fe70aae5cb30>\u001b[0m in \u001b[0;36mtrain_and_validate\u001b[0;34m(data, materials, concentrations, material_types, display, figure_path, epochs, batch_size, num_augmented_samples, use_early_stopping, patience)\u001b[0m\n\u001b[1;32m     16\u001b[0m \u001b[0;34m\u001b[0m\u001b[0m\n\u001b[1;32m     17\u001b[0m         \u001b[0;31m# Preprocess the training and validation data\u001b[0m\u001b[0;34m\u001b[0m\u001b[0;34m\u001b[0m\u001b[0m\n\u001b[0;32m---> 18\u001b[0;31m         \u001b[0mX_train_augmented\u001b[0m \u001b[0;34m=\u001b[0m \u001b[0mpreprocess_data\u001b[0m\u001b[0;34m(\u001b[0m\u001b[0mX_train_augmented\u001b[0m\u001b[0;34m.\u001b[0m\u001b[0mreshape\u001b[0m\u001b[0;34m(\u001b[0m\u001b[0mX_train_augmented\u001b[0m\u001b[0;34m.\u001b[0m\u001b[0mshape\u001b[0m\u001b[0;34m[\u001b[0m\u001b[0;36m0\u001b[0m\u001b[0;34m]\u001b[0m\u001b[0;34m,\u001b[0m \u001b[0mX_train_augmented\u001b[0m\u001b[0;34m.\u001b[0m\u001b[0mshape\u001b[0m\u001b[0;34m[\u001b[0m\u001b[0;36m1\u001b[0m\u001b[0;34m]\u001b[0m\u001b[0;34m,\u001b[0m \u001b[0;36m1\u001b[0m\u001b[0;34m)\u001b[0m\u001b[0;34m)\u001b[0m\u001b[0;34m\u001b[0m\u001b[0;34m\u001b[0m\u001b[0m\n\u001b[0m\u001b[1;32m     19\u001b[0m         \u001b[0mX_val\u001b[0m \u001b[0;34m=\u001b[0m \u001b[0mpreprocess_data\u001b[0m\u001b[0;34m(\u001b[0m\u001b[0mX_val\u001b[0m\u001b[0;34m.\u001b[0m\u001b[0mreshape\u001b[0m\u001b[0;34m(\u001b[0m\u001b[0mX_val\u001b[0m\u001b[0;34m.\u001b[0m\u001b[0mshape\u001b[0m\u001b[0;34m[\u001b[0m\u001b[0;36m0\u001b[0m\u001b[0;34m]\u001b[0m\u001b[0;34m,\u001b[0m \u001b[0mX_val\u001b[0m\u001b[0;34m.\u001b[0m\u001b[0mshape\u001b[0m\u001b[0;34m[\u001b[0m\u001b[0;36m1\u001b[0m\u001b[0;34m]\u001b[0m\u001b[0;34m,\u001b[0m \u001b[0;36m1\u001b[0m\u001b[0;34m)\u001b[0m\u001b[0;34m)\u001b[0m\u001b[0;34m\u001b[0m\u001b[0;34m\u001b[0m\u001b[0m\n\u001b[1;32m     20\u001b[0m \u001b[0;34m\u001b[0m\u001b[0m\n",
            "\u001b[0;32m<ipython-input-7-012a3fe3bbc8>\u001b[0m in \u001b[0;36mpreprocess_data\u001b[0;34m(data)\u001b[0m\n\u001b[1;32m      3\u001b[0m     \u001b[0mdata_2d\u001b[0m \u001b[0;34m=\u001b[0m \u001b[0mdata\u001b[0m\u001b[0;34m.\u001b[0m\u001b[0mreshape\u001b[0m\u001b[0;34m(\u001b[0m\u001b[0;34m(\u001b[0m\u001b[0mnsamples\u001b[0m\u001b[0;34m,\u001b[0m \u001b[0mnx\u001b[0m \u001b[0;34m*\u001b[0m \u001b[0mny\u001b[0m\u001b[0;34m)\u001b[0m\u001b[0;34m)\u001b[0m\u001b[0;34m\u001b[0m\u001b[0;34m\u001b[0m\u001b[0m\n\u001b[1;32m      4\u001b[0m     \u001b[0mscaler\u001b[0m \u001b[0;34m=\u001b[0m \u001b[0mStandardScaler\u001b[0m\u001b[0;34m(\u001b[0m\u001b[0;34m)\u001b[0m\u001b[0;34m\u001b[0m\u001b[0;34m\u001b[0m\u001b[0m\n\u001b[0;32m----> 5\u001b[0;31m     \u001b[0mdata_scaled\u001b[0m \u001b[0;34m=\u001b[0m \u001b[0mscaler\u001b[0m\u001b[0;34m.\u001b[0m\u001b[0mfit_transform\u001b[0m\u001b[0;34m(\u001b[0m\u001b[0mdata_2d\u001b[0m\u001b[0;34m)\u001b[0m\u001b[0;34m\u001b[0m\u001b[0;34m\u001b[0m\u001b[0m\n\u001b[0m\u001b[1;32m      6\u001b[0m     \u001b[0mdata_reshaped\u001b[0m \u001b[0;34m=\u001b[0m \u001b[0mdata_scaled\u001b[0m\u001b[0;34m.\u001b[0m\u001b[0mreshape\u001b[0m\u001b[0;34m(\u001b[0m\u001b[0mnsamples\u001b[0m\u001b[0;34m,\u001b[0m \u001b[0mnx\u001b[0m\u001b[0;34m,\u001b[0m \u001b[0mny\u001b[0m\u001b[0;34m)\u001b[0m\u001b[0;34m\u001b[0m\u001b[0;34m\u001b[0m\u001b[0m\n\u001b[1;32m      7\u001b[0m     \u001b[0;32mreturn\u001b[0m \u001b[0mdata_reshaped\u001b[0m\u001b[0;34m\u001b[0m\u001b[0;34m\u001b[0m\u001b[0m\n",
            "\u001b[0;32m/usr/local/lib/python3.10/dist-packages/sklearn/utils/_set_output.py\u001b[0m in \u001b[0;36mwrapped\u001b[0;34m(self, X, *args, **kwargs)\u001b[0m\n\u001b[1;32m    138\u001b[0m     \u001b[0;34m@\u001b[0m\u001b[0mwraps\u001b[0m\u001b[0;34m(\u001b[0m\u001b[0mf\u001b[0m\u001b[0;34m)\u001b[0m\u001b[0;34m\u001b[0m\u001b[0;34m\u001b[0m\u001b[0m\n\u001b[1;32m    139\u001b[0m     \u001b[0;32mdef\u001b[0m \u001b[0mwrapped\u001b[0m\u001b[0;34m(\u001b[0m\u001b[0mself\u001b[0m\u001b[0;34m,\u001b[0m \u001b[0mX\u001b[0m\u001b[0;34m,\u001b[0m \u001b[0;34m*\u001b[0m\u001b[0margs\u001b[0m\u001b[0;34m,\u001b[0m \u001b[0;34m**\u001b[0m\u001b[0mkwargs\u001b[0m\u001b[0;34m)\u001b[0m\u001b[0;34m:\u001b[0m\u001b[0;34m\u001b[0m\u001b[0;34m\u001b[0m\u001b[0m\n\u001b[0;32m--> 140\u001b[0;31m         \u001b[0mdata_to_wrap\u001b[0m \u001b[0;34m=\u001b[0m \u001b[0mf\u001b[0m\u001b[0;34m(\u001b[0m\u001b[0mself\u001b[0m\u001b[0;34m,\u001b[0m \u001b[0mX\u001b[0m\u001b[0;34m,\u001b[0m \u001b[0;34m*\u001b[0m\u001b[0margs\u001b[0m\u001b[0;34m,\u001b[0m \u001b[0;34m**\u001b[0m\u001b[0mkwargs\u001b[0m\u001b[0;34m)\u001b[0m\u001b[0;34m\u001b[0m\u001b[0;34m\u001b[0m\u001b[0m\n\u001b[0m\u001b[1;32m    141\u001b[0m         \u001b[0;32mif\u001b[0m \u001b[0misinstance\u001b[0m\u001b[0;34m(\u001b[0m\u001b[0mdata_to_wrap\u001b[0m\u001b[0;34m,\u001b[0m \u001b[0mtuple\u001b[0m\u001b[0;34m)\u001b[0m\u001b[0;34m:\u001b[0m\u001b[0;34m\u001b[0m\u001b[0;34m\u001b[0m\u001b[0m\n\u001b[1;32m    142\u001b[0m             \u001b[0;31m# only wrap the first output for cross decomposition\u001b[0m\u001b[0;34m\u001b[0m\u001b[0;34m\u001b[0m\u001b[0m\n",
            "\u001b[0;32m/usr/local/lib/python3.10/dist-packages/sklearn/base.py\u001b[0m in \u001b[0;36mfit_transform\u001b[0;34m(self, X, y, **fit_params)\u001b[0m\n\u001b[1;32m    876\u001b[0m         \u001b[0;32mif\u001b[0m \u001b[0my\u001b[0m \u001b[0;32mis\u001b[0m \u001b[0;32mNone\u001b[0m\u001b[0;34m:\u001b[0m\u001b[0;34m\u001b[0m\u001b[0;34m\u001b[0m\u001b[0m\n\u001b[1;32m    877\u001b[0m             \u001b[0;31m# fit method of arity 1 (unsupervised transformation)\u001b[0m\u001b[0;34m\u001b[0m\u001b[0;34m\u001b[0m\u001b[0m\n\u001b[0;32m--> 878\u001b[0;31m             \u001b[0;32mreturn\u001b[0m \u001b[0mself\u001b[0m\u001b[0;34m.\u001b[0m\u001b[0mfit\u001b[0m\u001b[0;34m(\u001b[0m\u001b[0mX\u001b[0m\u001b[0;34m,\u001b[0m \u001b[0;34m**\u001b[0m\u001b[0mfit_params\u001b[0m\u001b[0;34m)\u001b[0m\u001b[0;34m.\u001b[0m\u001b[0mtransform\u001b[0m\u001b[0;34m(\u001b[0m\u001b[0mX\u001b[0m\u001b[0;34m)\u001b[0m\u001b[0;34m\u001b[0m\u001b[0;34m\u001b[0m\u001b[0m\n\u001b[0m\u001b[1;32m    879\u001b[0m         \u001b[0;32melse\u001b[0m\u001b[0;34m:\u001b[0m\u001b[0;34m\u001b[0m\u001b[0;34m\u001b[0m\u001b[0m\n\u001b[1;32m    880\u001b[0m             \u001b[0;31m# fit method of arity 2 (supervised transformation)\u001b[0m\u001b[0;34m\u001b[0m\u001b[0;34m\u001b[0m\u001b[0m\n",
            "\u001b[0;32m/usr/local/lib/python3.10/dist-packages/sklearn/preprocessing/_data.py\u001b[0m in \u001b[0;36mfit\u001b[0;34m(self, X, y, sample_weight)\u001b[0m\n\u001b[1;32m    822\u001b[0m         \u001b[0;31m# Reset internal state before fitting\u001b[0m\u001b[0;34m\u001b[0m\u001b[0;34m\u001b[0m\u001b[0m\n\u001b[1;32m    823\u001b[0m         \u001b[0mself\u001b[0m\u001b[0;34m.\u001b[0m\u001b[0m_reset\u001b[0m\u001b[0;34m(\u001b[0m\u001b[0;34m)\u001b[0m\u001b[0;34m\u001b[0m\u001b[0;34m\u001b[0m\u001b[0m\n\u001b[0;32m--> 824\u001b[0;31m         \u001b[0;32mreturn\u001b[0m \u001b[0mself\u001b[0m\u001b[0;34m.\u001b[0m\u001b[0mpartial_fit\u001b[0m\u001b[0;34m(\u001b[0m\u001b[0mX\u001b[0m\u001b[0;34m,\u001b[0m \u001b[0my\u001b[0m\u001b[0;34m,\u001b[0m \u001b[0msample_weight\u001b[0m\u001b[0;34m)\u001b[0m\u001b[0;34m\u001b[0m\u001b[0;34m\u001b[0m\u001b[0m\n\u001b[0m\u001b[1;32m    825\u001b[0m \u001b[0;34m\u001b[0m\u001b[0m\n\u001b[1;32m    826\u001b[0m     \u001b[0;32mdef\u001b[0m \u001b[0mpartial_fit\u001b[0m\u001b[0;34m(\u001b[0m\u001b[0mself\u001b[0m\u001b[0;34m,\u001b[0m \u001b[0mX\u001b[0m\u001b[0;34m,\u001b[0m \u001b[0my\u001b[0m\u001b[0;34m=\u001b[0m\u001b[0;32mNone\u001b[0m\u001b[0;34m,\u001b[0m \u001b[0msample_weight\u001b[0m\u001b[0;34m=\u001b[0m\u001b[0;32mNone\u001b[0m\u001b[0;34m)\u001b[0m\u001b[0;34m:\u001b[0m\u001b[0;34m\u001b[0m\u001b[0;34m\u001b[0m\u001b[0m\n",
            "\u001b[0;32m/usr/local/lib/python3.10/dist-packages/sklearn/preprocessing/_data.py\u001b[0m in \u001b[0;36mpartial_fit\u001b[0;34m(self, X, y, sample_weight)\u001b[0m\n\u001b[1;32m    944\u001b[0m \u001b[0;34m\u001b[0m\u001b[0m\n\u001b[1;32m    945\u001b[0m             \u001b[0;32melse\u001b[0m\u001b[0;34m:\u001b[0m\u001b[0;34m\u001b[0m\u001b[0;34m\u001b[0m\u001b[0m\n\u001b[0;32m--> 946\u001b[0;31m                 self.mean_, self.var_, self.n_samples_seen_ = _incremental_mean_and_var(\n\u001b[0m\u001b[1;32m    947\u001b[0m                     \u001b[0mX\u001b[0m\u001b[0;34m,\u001b[0m\u001b[0;34m\u001b[0m\u001b[0;34m\u001b[0m\u001b[0m\n\u001b[1;32m    948\u001b[0m                     \u001b[0mself\u001b[0m\u001b[0;34m.\u001b[0m\u001b[0mmean_\u001b[0m\u001b[0;34m,\u001b[0m\u001b[0;34m\u001b[0m\u001b[0;34m\u001b[0m\u001b[0m\n",
            "\u001b[0;32m/usr/local/lib/python3.10/dist-packages/sklearn/utils/extmath.py\u001b[0m in \u001b[0;36m_incremental_mean_and_var\u001b[0;34m(X, last_mean, last_variance, last_sample_count, sample_weight)\u001b[0m\n\u001b[1;32m   1065\u001b[0m             \u001b[0mcorrection\u001b[0m \u001b[0;34m=\u001b[0m \u001b[0m_safe_accumulator_op\u001b[0m\u001b[0;34m(\u001b[0m\u001b[0msum_op\u001b[0m\u001b[0;34m,\u001b[0m \u001b[0mtemp\u001b[0m\u001b[0;34m,\u001b[0m \u001b[0maxis\u001b[0m\u001b[0;34m=\u001b[0m\u001b[0;36m0\u001b[0m\u001b[0;34m)\u001b[0m\u001b[0;34m\u001b[0m\u001b[0;34m\u001b[0m\u001b[0m\n\u001b[1;32m   1066\u001b[0m             \u001b[0mtemp\u001b[0m \u001b[0;34m**=\u001b[0m \u001b[0;36m2\u001b[0m\u001b[0;34m\u001b[0m\u001b[0;34m\u001b[0m\u001b[0m\n\u001b[0;32m-> 1067\u001b[0;31m             \u001b[0mnew_unnormalized_variance\u001b[0m \u001b[0;34m=\u001b[0m \u001b[0m_safe_accumulator_op\u001b[0m\u001b[0;34m(\u001b[0m\u001b[0msum_op\u001b[0m\u001b[0;34m,\u001b[0m \u001b[0mtemp\u001b[0m\u001b[0;34m,\u001b[0m \u001b[0maxis\u001b[0m\u001b[0;34m=\u001b[0m\u001b[0;36m0\u001b[0m\u001b[0;34m)\u001b[0m\u001b[0;34m\u001b[0m\u001b[0;34m\u001b[0m\u001b[0m\n\u001b[0m\u001b[1;32m   1068\u001b[0m \u001b[0;34m\u001b[0m\u001b[0m\n\u001b[1;32m   1069\u001b[0m         \u001b[0;31m# correction term of the corrected 2 pass algorithm.\u001b[0m\u001b[0;34m\u001b[0m\u001b[0;34m\u001b[0m\u001b[0m\n",
            "\u001b[0;32m/usr/local/lib/python3.10/dist-packages/sklearn/utils/extmath.py\u001b[0m in \u001b[0;36m_safe_accumulator_op\u001b[0;34m(op, x, *args, **kwargs)\u001b[0m\n\u001b[1;32m    935\u001b[0m \u001b[0;31m# see https://github.com/numpy/numpy/issues/9393. The float64 is also retained\u001b[0m\u001b[0;34m\u001b[0m\u001b[0;34m\u001b[0m\u001b[0m\n\u001b[1;32m    936\u001b[0m \u001b[0;31m# as it is in case the float overflows\u001b[0m\u001b[0;34m\u001b[0m\u001b[0;34m\u001b[0m\u001b[0m\n\u001b[0;32m--> 937\u001b[0;31m \u001b[0;32mdef\u001b[0m \u001b[0m_safe_accumulator_op\u001b[0m\u001b[0;34m(\u001b[0m\u001b[0mop\u001b[0m\u001b[0;34m,\u001b[0m \u001b[0mx\u001b[0m\u001b[0;34m,\u001b[0m \u001b[0;34m*\u001b[0m\u001b[0margs\u001b[0m\u001b[0;34m,\u001b[0m \u001b[0;34m**\u001b[0m\u001b[0mkwargs\u001b[0m\u001b[0;34m)\u001b[0m\u001b[0;34m:\u001b[0m\u001b[0;34m\u001b[0m\u001b[0;34m\u001b[0m\u001b[0m\n\u001b[0m\u001b[1;32m    938\u001b[0m     \"\"\"\n\u001b[1;32m    939\u001b[0m     \u001b[0mThis\u001b[0m \u001b[0mfunction\u001b[0m \u001b[0mprovides\u001b[0m \u001b[0mnumpy\u001b[0m \u001b[0maccumulator\u001b[0m \u001b[0mfunctions\u001b[0m \u001b[0;32mwith\u001b[0m \u001b[0ma\u001b[0m \u001b[0mfloat64\u001b[0m \u001b[0mdtype\u001b[0m\u001b[0;34m\u001b[0m\u001b[0;34m\u001b[0m\u001b[0m\n",
            "\u001b[0;31mKeyboardInterrupt\u001b[0m: "
          ]
        }
      ],
      "source": [
        "### Linear regression ###\n",
        "# Run the train_and_validate function\n",
        "results_regression = train_and_validate(data, materials, concentrations, material_types, display=display, figure_path=figure_path, epochs=epochs, batch_size=batch_size, num_augmented_samples=num_augmented_samples, use_early_stopping=use_early_stopping, patience=patience)\n"
      ]
    },
    {
      "cell_type": "code",
      "source": [
        "### Classification ###\n",
        "# Set parameters\n",
        "validation_size = 0.2  # Adjust validation size if necessary\n",
        "n_components = 10  # Number of principal components to use\n",
        "\n",
        "# Call classify_materials with appropriate data handling\n",
        "classify_materials(data, materials, display=display, figure_path=figure_path, validation_size=validation_size, n_components=n_components, num_augmented_samples=20)"
      ],
      "metadata": {
        "colab": {
          "base_uri": "https://localhost:8080/",
          "height": 1000
        },
        "collapsed": true,
        "id": "e_lwywgDADPd",
        "outputId": "8b30cf41-3a4a-47d2-fa15-2ad7fa3d9526"
      },
      "id": "e_lwywgDADPd",
      "execution_count": 70,
      "outputs": [
        {
          "output_type": "stream",
          "name": "stdout",
          "text": [
            "Original data size: 185, Augmented data size: 3885\n",
            "Original data size: 185, Augmented data size: 3885\n",
            "Logistic Regression - AUROC: 0.9916\n",
            "Random Forest - AUROC: 0.9958\n",
            "SVM - AUROC: 0.9844\n",
            "Gradient Boosting - AUROC: 0.9976\n"
          ]
        },
        {
          "output_type": "display_data",
          "data": {
            "text/plain": [
              "<Figure size 1200x800 with 1 Axes>"
            ],
            "image/png": "[encoded data removed]"
          },
          "metadata": {}
        },
        {
          "output_type": "stream",
          "name": "stdout",
          "text": [
            "Best model: Gradient Boosting with AUROC: 0.9976\n"
          ]
        },
        {
          "output_type": "display_data",
          "data": {
            "text/plain": [
              "<Figure size 800x600 with 2 Axes>"
            ],
            "image/png": "[encoded data removed]"
          },
          "metadata": {}
        },
        {
          "output_type": "stream",
          "name": "stdout",
          "text": [
            "Classification Report for the Best Model:\n",
            "              precision    recall  f1-score   support\n",
            "\n",
            "           0       1.00      0.57      0.73         7\n",
            "           1       0.96      1.00      0.98        22\n",
            "           2       0.90      1.00      0.95        18\n",
            "\n",
            "    accuracy                           0.94        47\n",
            "   macro avg       0.95      0.86      0.88        47\n",
            "weighted avg       0.94      0.94      0.93        47\n",
            "\n",
            "Material: 0\n",
            "Specificity: 1.00\n",
            "Sensitivity: 0.57\n",
            "\n",
            "Material: 1\n",
            "Specificity: 0.96\n",
            "Sensitivity: 1.00\n",
            "\n",
            "Material: 2\n",
            "Specificity: 0.93\n",
            "Sensitivity: 1.00\n",
            "\n"
          ]
        }
      ]
    },
    {
      "cell_type": "code",
      "source": [],
      "metadata": {
        "id": "94Ez_1rp5Ckw"
      },
      "id": "94Ez_1rp5Ckw",
      "execution_count": null,
      "outputs": []
    }
  ],
  "metadata": {
    "colab": {
      "provenance": [],
      "machine_shape": "hm",
      "gpuType": "L4",
      "include_colab_link": true
    },
    "kernelspec": {
      "display_name": "Python 3",
      "name": "python3"
    },
    "language_info": {
      "codemirror_mode": {
        "name": "ipython",
        "version": 3
      },
      "file_extension": ".py",
      "mimetype": "text/x-python",
      "name": "python",
      "nbconvert_exporter": "python",
      "pygments_lexer": "ipython3",
      "version": "3.11.7"
    },
    "accelerator": "GPU"
  },
  "nbformat": 4,
  "nbformat_minor": 5
}