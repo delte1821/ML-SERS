{
  "cells": [
    {
      "cell_type": "markdown",
      "metadata": {
        "id": "view-in-github",
        "colab_type": "text"
      },
      "source": [
        "<a href=\"https://colab.research.google.com/github/delte1821/ML-SERS/blob/master/ML_SERS_v1_4.ipynb\" target=\"_parent\"><img src=\"https://colab.research.google.com/assets/colab-badge.svg\" alt=\"Open In Colab\"/></a>"
      ]
    },
    {
      "cell_type": "code",
      "execution_count": 5,
      "id": "0d6cf943-3bba-4432-9d67-c788b4b80994",
      "metadata": {
        "id": "0d6cf943-3bba-4432-9d67-c788b4b80994"
      },
      "outputs": [],
      "source": [
        "import pandas as pd\n",
        "import os\n",
        "import numpy as np\n",
        "from sklearn.model_selection import train_test_split\n",
        "from tensorflow.keras.models import Sequential\n",
        "from tensorflow.keras.layers import Conv1D, MaxPooling1D, Flatten, Dense, BatchNormalization, Dropout, Activation\n",
        "from tensorflow.keras.regularizers import l2\n",
        "from sklearn.preprocessing import StandardScaler, LabelEncoder, PolynomialFeatures\n",
        "from sklearn.metrics import mean_squared_error, r2_score, classification_report, confusion_matrix, ConfusionMatrixDisplay\n",
        "from sklearn.decomposition import PCA\n",
        "from sklearn.ensemble import RandomForestClassifier\n",
        "import matplotlib.pyplot as plt\n",
        "from matplotlib import rcParams\n",
        "\n",
        "rcParams['font.family'] = 'sans-serif'\n",
        "rcParams['font.sans-serif'] = ['DejaVu Sans']"
      ]
    },
    {
      "cell_type": "code",
      "source": [
        "from google.colab import drive\n",
        "drive.mount('/content/drive')"
      ],
      "metadata": {
        "colab": {
          "base_uri": "https://localhost:8080/"
        },
        "id": "okY68X0pu6Uo",
        "outputId": "27cd76ed-2ce4-4717-e975-ac5defad2400"
      },
      "id": "okY68X0pu6Uo",
      "execution_count": 6,
      "outputs": [
        {
          "output_type": "stream",
          "name": "stdout",
          "text": [
            "Drive already mounted at /content/drive; to attempt to forcibly remount, call drive.mount(\"/content/drive\", force_remount=True).\n"
          ]
        }
      ]
    },
    {
      "cell_type": "code",
      "execution_count": 7,
      "id": "e35ffc8b-4b70-4a65-8c18-f7efd644646e",
      "metadata": {
        "id": "e35ffc8b-4b70-4a65-8c18-f7efd644646e"
      },
      "outputs": [],
      "source": [
        "def initialize_paths(file_path):\n",
        "    figure_path = os.path.join(file_path, \"Figures\")\n",
        "    return figure_path"
      ]
    },
    {
      "cell_type": "code",
      "source": [
        "def load_data(file_path):\n",
        "    df = pd.read_excel(file_path, header=None)\n",
        "    materials = df.iloc[0, :].astype(int)  # Ensure materials are integers\n",
        "    concentrations = df.iloc[1, :].astype(float)\n",
        "    data = df.iloc[2:, :].values\n",
        "    return data, materials, concentrations"
      ],
      "metadata": {
        "id": "5KQoUPoH08gV"
      },
      "id": "5KQoUPoH08gV",
      "execution_count": 8,
      "outputs": []
    },
    {
      "cell_type": "code",
      "source": [
        "def filter_by_material(data, materials, concentrations, material_type):\n",
        "    indices = materials == material_type\n",
        "    filtered_data = data[:, indices]\n",
        "    filtered_concentrations = concentrations[indices]\n",
        "    return filtered_data, filtered_concentrations"
      ],
      "metadata": {
        "id": "KwU9WMR507KM"
      },
      "id": "KwU9WMR507KM",
      "execution_count": 9,
      "outputs": []
    },
    {
      "cell_type": "code",
      "source": [
        "def preprocess_data(data, degree=2):\n",
        "    nsamples, nx, ny = data.shape\n",
        "    data_2d = data.reshape((nsamples, nx * ny))\n",
        "    scaler = StandardScaler()\n",
        "    data_scaled = scaler.fit_transform(data_2d)\n",
        "    poly = PolynomialFeatures(degree=degree)\n",
        "    data_poly = poly.fit_transform(data_scaled)\n",
        "    data_reshaped = data_poly.reshape(nsamples, -1)\n",
        "    return data_reshaped"
      ],
      "metadata": {
        "id": "QYONXuD905XA"
      },
      "id": "QYONXuD905XA",
      "execution_count": 10,
      "outputs": []
    },
    {
      "cell_type": "code",
      "source": [
        "def augment_data(data, labels, num_augmented_samples=10):\n",
        "    augmented_data = []\n",
        "    augmented_labels = []\n",
        "    for sample, label in zip(data, labels):\n",
        "        for _ in range(num_augmented_samples):\n",
        "            noise = np.random.normal(0, 0.1, sample.shape)\n",
        "            augmented_sample = sample + noise\n",
        "            augmented_data.append(augmented_sample)\n",
        "            augmented_labels.append(label)\n",
        "    return np.array(augmented_data), np.array(augmented_labels)"
      ],
      "metadata": {
        "id": "CArN_Z9X03pc"
      },
      "id": "CArN_Z9X03pc",
      "execution_count": 11,
      "outputs": []
    },
    {
      "cell_type": "code",
      "source": [
        "def build_cnn_model(input_shape):\n",
        "    model = Sequential([\n",
        "        Conv1D(32, kernel_size=3, activation='relu', input_shape=input_shape, kernel_regularizer=l2(0.01)),\n",
        "        BatchNormalization(),\n",
        "        MaxPooling1D(2),\n",
        "        Conv1D(64, kernel_size=3, activation='relu', kernel_regularizer=l2(0.01)),\n",
        "        BatchNormalization(),\n",
        "        MaxPooling1D(2),\n",
        "        Flatten(),\n",
        "        Dense(100, activation='relu', kernel_regularizer=l2(0.01)),\n",
        "        Dropout(0.5),\n",
        "        Dense(1, kernel_regularizer=l2(0.01))  # Output layer for concentration prediction\n",
        "    ])\n",
        "    model.compile(optimizer='adam', loss='mean_squared_error')\n",
        "    return model"
      ],
      "metadata": {
        "id": "ZKDzrLCP02He"
      },
      "id": "ZKDzrLCP02He",
      "execution_count": 12,
      "outputs": []
    },
    {
      "cell_type": "code",
      "source": [
        "def remove_outliers(X, y):\n",
        "    z_scores_X = (X - np.mean(X)) / np.std(X)\n",
        "    z_scores_y = (y - np.mean(y)) / np.std(y)\n",
        "    threshold = 3\n",
        "    non_outliers_X = X[abs(z_scores_X) <= threshold]\n",
        "    non_outliers_y = y[abs(z_scores_y) <= threshold]\n",
        "    # Ensure both X and y have the same number of samples\n",
        "    min_samples = min(len(non_outliers_X), len(non_outliers_y))\n",
        "\n",
        "    non_outliers_X = non_outliers_X[:min_samples]\n",
        "    non_outliers_y = non_outliers_y[:min_samples]\n",
        "\n",
        "    # Replace the original data with the non-outliers\n",
        "    X = non_outliers_X\n",
        "    y = non_outliers_y\n",
        "    return X, y"
      ],
      "metadata": {
        "id": "hNgOYSMu00D8"
      },
      "id": "hNgOYSMu00D8",
      "execution_count": 13,
      "outputs": []
    },
    {
      "cell_type": "code",
      "source": [
        "def train_and_validate(data, materials, concentrations, material_types, degree=2, display=True, figure_path=None):\n",
        "    results = {}\n",
        "    fig_counter = 1\n",
        "    for mat_type in material_types:\n",
        "        X, y = filter_by_material(data, materials, concentrations, mat_type)\n",
        "        X_train, X_val, y_train, y_val = train_test_split(X.T, y, test_size=0.2, random_state=42)\n",
        "        X_train = X_train.reshape(X_train.shape[0], X_train.shape[1], 1)\n",
        "        X_val = X_val.reshape(X_val.shape[0], X_val.shape[1], 1)\n",
        "\n",
        "        # Data augmentation\n",
        "        X_train, y_train = augment_data(X_train, y_train)\n",
        "\n",
        "        X_train = preprocess_data(X_train, degree=degree)\n",
        "        X_val = preprocess_data(X_val, degree=degree)\n",
        "\n",
        "        # Reshape back to 3D for CNN input\n",
        "        X_train = X_train.reshape(X_train.shape[0], -1, 1)\n",
        "        X_val = X_val.reshape(X_val.shape[0], -1, 1)\n",
        "\n",
        "        model = build_cnn_model((X_train.shape[1], 1))\n",
        "        print(f\"Training model for material type: {mat_type}\")\n",
        "        history = model.fit(X_train, y_train, epochs=200, batch_size=32, validation_data=(X_val, y_val))\n",
        "\n",
        "        y_pred = model.predict(X_val)\n",
        "        mse = mean_squared_error(y_val, y_pred)\n",
        "        r2 = r2_score(y_val, y_pred)\n",
        "        results[mat_type] = (mse, r2, model)\n",
        "\n",
        "        if display:\n",
        "            plot_predictions(y_val, y_pred, mat_type, fig_counter, figure_path)\n",
        "            plot_training_history(history, mat_type, fig_counter, figure_path)\n",
        "\n",
        "        fig_counter += 1\n",
        "    return results"
      ],
      "metadata": {
        "id": "mV269rJ30yTO"
      },
      "id": "mV269rJ30yTO",
      "execution_count": 14,
      "outputs": []
    },
    {
      "cell_type": "code",
      "source": [
        "def plot_predictions(y_true, y_pred, material_type, fig_counter, figure_path):\n",
        "    material_name = \"IL6\" if material_type == 1 else \"TNF\" if material_type == 2 else \"Control\"\n",
        "    plt.figure(figsize=(8, 6))\n",
        "    plt.scatter(y_true, y_pred, c='blue')\n",
        "    plt.plot([y_true.min(), y_true.max()], [y_true.min(), y_true.max()], 'k--')\n",
        "    plt.xlabel('Actual Concentrations')\n",
        "    plt.ylabel('Predicted Concentrations')\n",
        "    plt.title(f'Actual vs Predicted Concentrations for {material_name}')\n",
        "    r2 = r2_score(y_true, y_pred)\n",
        "    plt.text(0.05, 0.95, f'R² = {r2:.2f}', transform=plt.gca().transAxes, fontsize=14, verticalalignment='top')\n",
        "    plt.tight_layout()\n",
        "    plt.savefig(os.path.join(figure_path, f'{material_name}_LR_{fig_counter}.png'))\n",
        "    plt.show()"
      ],
      "metadata": {
        "id": "IJyGWk4b0thz"
      },
      "id": "IJyGWk4b0thz",
      "execution_count": 15,
      "outputs": []
    },
    {
      "cell_type": "code",
      "source": [
        "def plot_training_history(history, material_type, fig_counter, figure_path):\n",
        "    material_name = \"IL6\" if material_type == 1 else \"TNF\" if material_type == 2 else \"Control\"\n",
        "    plt.figure(figsize=(8, 6))\n",
        "    plt.plot(history.history['loss'], label='Training Loss')\n",
        "    plt.plot(history.history['val_loss'], label='Validation Loss')\n",
        "    plt.title(f'Epoch vs Loss for {material_name}')\n",
        "    plt.xlabel('Epoch')\n",
        "    plt.ylabel('Loss')\n",
        "    plt.legend()\n",
        "    plt.grid(True)\n",
        "    plt.tight_layout()\n",
        "    plt.savefig(os.path.join(figure_path, f'{material_name}_TH_{fig_counter}.png'))\n",
        "    plt.show()"
      ],
      "metadata": {
        "id": "O8B-X_oK0p0L"
      },
      "id": "O8B-X_oK0p0L",
      "execution_count": 16,
      "outputs": []
    },
    {
      "cell_type": "code",
      "source": [
        "def classify_materials(data, materials, display=True, figure_path=None):\n",
        "    data = data.T\n",
        "\n",
        "    scaler = StandardScaler()\n",
        "    data_scaled = scaler.fit_transform(data)\n",
        "\n",
        "    pca = PCA(n_components=2)\n",
        "    data_pca = pca.fit_transform(data_scaled)\n",
        "\n",
        "    assert data_pca.shape[0] == len(materials), \"Inconsistent number of samples between data and materials\"\n",
        "\n",
        "    X_train, X_val, y_train, y_val = train_test_split(data_pca, materials, test_size=0.2, random_state=42)\n",
        "\n",
        "    X_train, y_train = augment_data(X_train, y_train)\n",
        "\n",
        "    le = LabelEncoder()\n",
        "    y_train_encoded = le.fit_transform(y_train)\n",
        "    y_val_encoded = le.transform(y_val)\n",
        "\n",
        "    clf = RandomForestClassifier(random_state=42)\n",
        "    clf.fit(X_train, y_train_encoded)\n",
        "    y_pred = clf.predict(X_val)\n",
        "\n",
        "    y_pred_decoded = le.inverse_transform(y_pred)\n",
        "\n",
        "    target_names = [str(label) for label in le.classes_]\n",
        "\n",
        "    print(\"Material Classification Report (Validation):\")\n",
        "    print(classification_report(y_val_encoded, y_pred, target_names=target_names))\n",
        "\n",
        "    if display:\n",
        "        plot_confusion_matrix(y_val_encoded, y_pred, target_names, figure_path)"
      ],
      "metadata": {
        "id": "7sN7pxXF0gTJ"
      },
      "id": "7sN7pxXF0gTJ",
      "execution_count": 17,
      "outputs": []
    },
    {
      "cell_type": "code",
      "source": [
        "def plot_confusion_matrix(y_true, y_pred, labels, figure_path, fig_counter=1):\n",
        "    cm = confusion_matrix(y_true, y_pred)\n",
        "    disp = ConfusionMatrixDisplay(confusion_matrix=cm, display_labels=labels)\n",
        "    disp.plot(cmap=plt.cm.Blues)\n",
        "    plt.title(\"Confusion Matrix\")\n",
        "    plt.figure(figsize=(8, 6))\n",
        "    plt.tight_layout()\n",
        "    plt.savefig(os.path.join(figure_path, f'CM_{fig_counter}.png'))\n",
        "    plt.show()"
      ],
      "metadata": {
        "id": "qdUaoEKn0eAy"
      },
      "id": "qdUaoEKn0eAy",
      "execution_count": 18,
      "outputs": []
    },
    {
      "cell_type": "code",
      "execution_count": 19,
      "id": "bbe32483-4f2b-4319-817b-b0f05c5870a8",
      "metadata": {
        "id": "bbe32483-4f2b-4319-817b-b0f05c5870a8"
      },
      "outputs": [],
      "source": [
        "# Paths and instantiation\n",
        "file_path = \"/content/drive/My Drive/Colab Notebooks/Spectra/Low\"\n",
        "figure_path = initialize_paths(file_path)\n",
        "original_file_path = os.path.join(file_path, \"Combine.xlsx\")\n",
        "display = True"
      ]
    },
    {
      "cell_type": "code",
      "execution_count": 20,
      "id": "f092b3fc-0670-49b4-9a10-aadc3f539641",
      "metadata": {
        "id": "f092b3fc-0670-49b4-9a10-aadc3f539641",
        "collapsed": true
      },
      "outputs": [],
      "source": [
        "# Instantiate and use the model\n",
        "data, materials, concentrations = load_data(original_file_path)\n",
        "material_types = [1, 2]  # Focusing on IL6 and TNF for example\n",
        "degree = 2"
      ]
    },
    {
      "cell_type": "code",
      "source": [
        "# Regression\n",
        "results_regression = train_and_validate(data, materials, concentrations, material_types, degree=degree, display=display, figure_path=figure_path)"
      ],
      "metadata": {
        "colab": {
          "base_uri": "https://localhost:8080/"
        },
        "id": "jLYGQyxg4IaL",
        "outputId": "8a8c58d2-e71b-457e-c399-4418163b50a2"
      },
      "id": "jLYGQyxg4IaL",
      "execution_count": null,
      "outputs": [
        {
          "output_type": "stream",
          "name": "stdout",
          "text": [
            "Training model for material type: 1\n"
          ]
        }
      ]
    },
    {
      "cell_type": "code",
      "execution_count": 47,
      "id": "c2e75763-2fca-4bb5-930b-9cd2774a927e",
      "metadata": {
        "id": "c2e75763-2fca-4bb5-930b-9cd2774a927e",
        "colab": {
          "base_uri": "https://localhost:8080/",
          "height": 729
        },
        "collapsed": true,
        "outputId": "1dffe2e1-7cca-4906-8b40-8a5c0e61b5a1"
      },
      "outputs": [
        {
          "output_type": "stream",
          "name": "stdout",
          "text": [
            "Data shape after transpose: (232, 1024)\n",
            "Materials length: 232\n",
            "Material Classification Report (Validation):\n",
            "              precision    recall  f1-score   support\n",
            "\n",
            "           0       0.67      0.29      0.40         7\n",
            "           1       0.91      0.95      0.93        22\n",
            "           2       0.86      1.00      0.92        18\n",
            "\n",
            "    accuracy                           0.87        47\n",
            "   macro avg       0.81      0.75      0.75        47\n",
            "weighted avg       0.85      0.87      0.85        47\n",
            "\n"
          ]
        },
        {
          "output_type": "display_data",
          "data": {
            "text/plain": [
              "<Figure size 640x480 with 2 Axes>"
            ],
            "image/png": "[encoded data removed]"
          },
          "metadata": {}
        },
        {
          "output_type": "display_data",
          "data": {
            "text/plain": [
              "<Figure size 800x600 with 0 Axes>"
            ]
          },
          "metadata": {}
        }
      ],
      "source": [
        "# Classification\n",
        "sers_model.classify_materials(data, materials)"
      ]
    },
    {
      "cell_type": "code",
      "source": [],
      "metadata": {
        "id": "KnjlwAeM13fk"
      },
      "id": "KnjlwAeM13fk",
      "execution_count": null,
      "outputs": []
    },
    {
      "cell_type": "code",
      "execution_count": null,
      "id": "e8eba3b4-dff1-4c7d-a797-4d86326a15c3",
      "metadata": {
        "id": "e8eba3b4-dff1-4c7d-a797-4d86326a15c3"
      },
      "outputs": [],
      "source": []
    }
  ],
  "metadata": {
    "kernelspec": {
      "display_name": "Python 3",
      "name": "python3"
    },
    "language_info": {
      "codemirror_mode": {
        "name": "ipython",
        "version": 3
      },
      "file_extension": ".py",
      "mimetype": "text/x-python",
      "name": "python",
      "nbconvert_exporter": "python",
      "pygments_lexer": "ipython3",
      "version": "3.11.7"
    },
    "colab": {
      "provenance": [],
      "gpuType": "T4",
      "include_colab_link": true
    },
    "accelerator": "GPU"
  },
  "nbformat": 4,
  "nbformat_minor": 5
}